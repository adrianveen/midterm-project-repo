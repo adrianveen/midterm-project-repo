{
 "cells": [
  {
   "cell_type": "code",
   "execution_count": 2,
   "metadata": {},
   "outputs": [],
   "source": [
    "import pandas as pd\n",
    "import numpy as np"
   ]
  },
  {
   "cell_type": "code",
   "execution_count": 3,
   "metadata": {},
   "outputs": [],
   "source": [
    "df = pd.read_csv('data\\cleanedData_v2.csv')"
   ]
  },
  {
   "cell_type": "code",
   "execution_count": 7,
   "metadata": {},
   "outputs": [],
   "source": [
    "col_to_drop = ['biofuel_elec_per_capita', 'biofuel_electricity', 'biofuel_share_elec', 'coal_electricity', 'coal_elec_per_capita',\n",
    "               'coal_electricity','coal_share_elec','fossil_elec_per_capita', 'fossil_electricity','fossil_share_elec',\n",
    "               'gas_elec_per_capita','gas_electricity', 'gas_share_elec','hydro_elec_per_capita', 'hydro_electricity',\n",
    "               'hydro_share_elec', 'low_carbon_elec_per_capita', 'low_carbon_electricity','low_carbon_share_elec',\n",
    "               'nuclear_elec_per_capita', 'nuclear_electricity','nuclear_share_elec','oil_elec_per_capita', 'oil_electricity',\n",
    "               'oil_share_elec','other_renewable_electricity', 'other_renewable_exc_biofuel_electricity',\n",
    "               'other_renewables_elec_per_capita','other_renewables_elec_per_capita_exc_biofuel',\n",
    "               'other_renewables_share_elec_exc_biofuel','other_renewables_share_energy','renewables_elec_per_capita', \n",
    "               'renewables_electricity','renewables_share_elec','solar_elec_per_capita', 'solar_electricity','solar_share_elec'\n",
    "               ,'wind_elec_per_capita', 'wind_electricity','wind_share_elec']"
   ]
  },
  {
   "cell_type": "code",
   "execution_count": 8,
   "metadata": {},
   "outputs": [],
   "source": [
    "df.drop(col_to_drop, axis=1, inplace=True)"
   ]
  },
  {
   "cell_type": "code",
   "execution_count": 10,
   "metadata": {},
   "outputs": [],
   "source": [
    "df.drop( 'other_renewables_share_elec', axis=1, inplace=True)"
   ]
  },
  {
   "cell_type": "code",
   "execution_count": 14,
   "metadata": {},
   "outputs": [],
   "source": [
    "df['gdp_per_capita'] = df['gdp'] / df['population']"
   ]
  },
  {
   "cell_type": "code",
   "execution_count": 15,
   "metadata": {},
   "outputs": [
    {
     "data": {
      "text/plain": [
       "count      7603.000000\n",
       "mean      11963.811844\n",
       "std       13847.867580\n",
       "min         365.696469\n",
       "25%        2397.116123\n",
       "50%        6945.880344\n",
       "75%       16619.347932\n",
       "max      166150.492457\n",
       "Name: gdp_per_capita, dtype: float64"
      ]
     },
     "execution_count": 15,
     "metadata": {},
     "output_type": "execute_result"
    }
   ],
   "source": [
    "df['gdp_per_capita'].describe()"
   ]
  },
  {
   "cell_type": "code",
   "execution_count": 16,
   "metadata": {},
   "outputs": [],
   "source": [
    "df['emissions_per_capite'] = df['greenhouse_gas_emissions'] / df['population']"
   ]
  },
  {
   "cell_type": "code",
   "execution_count": 19,
   "metadata": {},
   "outputs": [],
   "source": [
    "df.to_csv('data\\cleanedData_v3.csv', index=False)"
   ]
  }
 ],
 "metadata": {
  "kernelspec": {
   "display_name": "lhl_env",
   "language": "python",
   "name": "python3"
  },
  "language_info": {
   "codemirror_mode": {
    "name": "ipython",
    "version": 3
   },
   "file_extension": ".py",
   "mimetype": "text/x-python",
   "name": "python",
   "nbconvert_exporter": "python",
   "pygments_lexer": "ipython3",
   "version": "3.11.5"
  }
 },
 "nbformat": 4,
 "nbformat_minor": 2
}
