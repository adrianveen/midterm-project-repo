{
 "cells": [
  {
   "cell_type": "code",
   "execution_count": 2,
   "metadata": {},
   "outputs": [],
   "source": [
    "import pandas as pd\n",
    "import numpy as np"
   ]
  },
  {
   "cell_type": "code",
   "execution_count": 3,
   "metadata": {},
   "outputs": [],
   "source": [
    "df = pd.read_csv('data\\cleanedData_v2.csv')"
   ]
  },
  {
   "cell_type": "code",
   "execution_count": 4,
   "metadata": {},
   "outputs": [
    {
     "data": {
      "text/plain": [
       "Index(['country', 'year', 'iso_code', 'population', 'gdp',\n",
       "       'biofuel_cons_change_pct', 'biofuel_cons_change_twh',\n",
       "       'biofuel_cons_per_capita', 'biofuel_consumption',\n",
       "       'biofuel_elec_per_capita', 'biofuel_electricity', 'biofuel_share_elec',\n",
       "       'biofuel_share_energy', 'carbon_intensity_elec', 'coal_cons_change_pct',\n",
       "       'coal_cons_change_twh', 'coal_cons_per_capita', 'coal_consumption',\n",
       "       'coal_elec_per_capita', 'coal_electricity', 'coal_prod_change_pct',\n",
       "       'coal_prod_change_twh', 'coal_prod_per_capita', 'coal_production',\n",
       "       'coal_share_elec', 'coal_share_energy', 'electricity_demand',\n",
       "       'electricity_generation', 'electricity_share_energy',\n",
       "       'energy_cons_change_pct', 'energy_cons_change_twh', 'energy_per_capita',\n",
       "       'energy_per_gdp', 'fossil_cons_change_pct', 'fossil_cons_change_twh',\n",
       "       'fossil_elec_per_capita', 'fossil_electricity',\n",
       "       'fossil_energy_per_capita', 'fossil_fuel_consumption',\n",
       "       'fossil_share_elec', 'fossil_share_energy', 'gas_cons_change_pct',\n",
       "       'gas_cons_change_twh', 'gas_consumption', 'gas_elec_per_capita',\n",
       "       'gas_electricity', 'gas_energy_per_capita', 'gas_prod_change_pct',\n",
       "       'gas_prod_change_twh', 'gas_prod_per_capita', 'gas_production',\n",
       "       'gas_share_elec', 'gas_share_energy', 'greenhouse_gas_emissions',\n",
       "       'hydro_cons_change_pct', 'hydro_cons_change_twh', 'hydro_consumption',\n",
       "       'hydro_elec_per_capita', 'hydro_electricity', 'hydro_energy_per_capita',\n",
       "       'hydro_share_elec', 'hydro_share_energy', 'low_carbon_cons_change_pct',\n",
       "       'low_carbon_cons_change_twh', 'low_carbon_consumption',\n",
       "       'low_carbon_elec_per_capita', 'low_carbon_electricity',\n",
       "       'low_carbon_energy_per_capita', 'low_carbon_share_elec',\n",
       "       'low_carbon_share_energy'],\n",
       "      dtype='object')"
      ]
     },
     "execution_count": 4,
     "metadata": {},
     "output_type": "execute_result"
    }
   ],
   "source": [
    "df.columns[0:70]"
   ]
  },
  {
   "cell_type": "code",
   "execution_count": 5,
   "metadata": {},
   "outputs": [
    {
     "data": {
      "text/plain": [
       "Index(['nuclear_cons_change_pct', 'nuclear_cons_change_twh',\n",
       "       'nuclear_consumption', 'nuclear_elec_per_capita', 'nuclear_electricity',\n",
       "       'nuclear_energy_per_capita', 'nuclear_share_elec',\n",
       "       'nuclear_share_energy', 'oil_cons_change_pct', 'oil_cons_change_twh',\n",
       "       'oil_consumption', 'oil_elec_per_capita', 'oil_electricity',\n",
       "       'oil_energy_per_capita', 'oil_prod_change_pct', 'oil_prod_change_twh',\n",
       "       'oil_prod_per_capita', 'oil_production', 'oil_share_elec',\n",
       "       'oil_share_energy', 'other_renewable_consumption',\n",
       "       'other_renewable_electricity',\n",
       "       'other_renewable_exc_biofuel_electricity',\n",
       "       'other_renewables_cons_change_pct', 'other_renewables_cons_change_twh',\n",
       "       'other_renewables_elec_per_capita',\n",
       "       'other_renewables_elec_per_capita_exc_biofuel',\n",
       "       'other_renewables_energy_per_capita', 'other_renewables_share_elec',\n",
       "       'other_renewables_share_elec_exc_biofuel',\n",
       "       'other_renewables_share_energy', 'per_capita_electricity',\n",
       "       'primary_energy_consumption', 'renewables_cons_change_pct',\n",
       "       'renewables_cons_change_twh', 'renewables_consumption',\n",
       "       'renewables_elec_per_capita', 'renewables_electricity',\n",
       "       'renewables_energy_per_capita', 'renewables_share_elec',\n",
       "       'renewables_share_energy', 'solar_cons_change_pct',\n",
       "       'solar_cons_change_twh', 'solar_consumption', 'solar_elec_per_capita',\n",
       "       'solar_electricity', 'solar_energy_per_capita', 'solar_share_elec',\n",
       "       'solar_share_energy', 'wind_cons_change_pct', 'wind_cons_change_twh',\n",
       "       'wind_consumption', 'wind_elec_per_capita', 'wind_electricity',\n",
       "       'wind_energy_per_capita', 'wind_share_elec'],\n",
       "      dtype='object')"
      ]
     },
     "execution_count": 5,
     "metadata": {},
     "output_type": "execute_result"
    }
   ],
   "source": [
    "df.columns[70:-1]"
   ]
  },
  {
   "cell_type": "code",
   "execution_count": null,
   "metadata": {},
   "outputs": [],
   "source": [
    "col_to_drop = ['biofuel_elec_per_capita', 'biofuel_electricity', 'biofuel_share_elec',]"
   ]
  }
 ],
 "metadata": {
  "kernelspec": {
   "display_name": "lhl_env",
   "language": "python",
   "name": "python3"
  },
  "language_info": {
   "codemirror_mode": {
    "name": "ipython",
    "version": 3
   },
   "file_extension": ".py",
   "mimetype": "text/x-python",
   "name": "python",
   "nbconvert_exporter": "python",
   "pygments_lexer": "ipython3",
   "version": "3.11.5"
  }
 },
 "nbformat": 4,
 "nbformat_minor": 2
}
